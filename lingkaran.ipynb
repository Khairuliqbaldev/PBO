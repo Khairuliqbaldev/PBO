{
  "nbformat": 4,
  "nbformat_minor": 0,
  "metadata": {
    "colab": {
      "provenance": [],
      "authorship_tag": "ABX9TyObrbNQ7l10SjqUd4Jq7VFU",
      "include_colab_link": true
    },
    "kernelspec": {
      "name": "python3",
      "display_name": "Python 3"
    },
    "language_info": {
      "name": "python"
    }
  },
  "cells": [
    {
      "cell_type": "markdown",
      "metadata": {
        "id": "view-in-github",
        "colab_type": "text"
      },
      "source": [
        "<a href=\"https://colab.research.google.com/github/Khairuliqbaldev/PBO-2/blob/main/lingkaran.ipynb\" target=\"_parent\"><img src=\"https://colab.research.google.com/assets/colab-badge.svg\" alt=\"Open In Colab\"/></a>"
      ]
    },
    {
      "cell_type": "code",
      "execution_count": 1,
      "metadata": {
        "colab": {
          "base_uri": "https://localhost:8080/"
        },
        "id": "NiEbVbgsrmb5",
        "outputId": "df59f355-ee2f-4ff8-a0c3-1c5ef88c9de5"
      },
      "outputs": [
        {
          "output_type": "stream",
          "name": "stdout",
          "text": [
            "Radius: 7, Keliling: 43.96\n"
          ]
        }
      ],
      "source": [
        "# File 2: lingkaran.py\n",
        "class Lingkaran:\n",
        "    def __init__(self, radius):\n",
        "        if radius <= 0:\n",
        "            raise ValueError(\"Radius harus lebih dari 0\")\n",
        "        self.__radius = radius\n",
        "\n",
        "    def get_radius(self):\n",
        "        return self.__radius\n",
        "\n",
        "    def hitung_keliling(self):\n",
        "        return 2 * 3.14 * self.__radius\n",
        "\n",
        "# Membuat objek\n",
        "blt = Lingkaran(7)\n",
        "print(f\"Radius: {blt.get_radius()}, Keliling: {blt.hitung_keliling()}\")\n"
      ]
    }
  ]
}