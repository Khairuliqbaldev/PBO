{
  "nbformat": 4,
  "nbformat_minor": 0,
  "metadata": {
    "colab": {
      "provenance": [],
      "authorship_tag": "ABX9TyMwnCBzXM3aGkzTM1QF+jAJ",
      "include_colab_link": true
    },
    "kernelspec": {
      "name": "python3",
      "display_name": "Python 3"
    },
    "language_info": {
      "name": "python"
    }
  },
  "cells": [
    {
      "cell_type": "markdown",
      "metadata": {
        "id": "view-in-github",
        "colab_type": "text"
      },
      "source": [
        "<a href=\"https://colab.research.google.com/github/Khairuliqbaldev/PBO/blob/main/segitiga_3.ipynb\" target=\"_parent\"><img src=\"https://colab.research.google.com/assets/colab-badge.svg\" alt=\"Open In Colab\"/></a>"
      ]
    },
    {
      "cell_type": "code",
      "execution_count": 10,
      "metadata": {
        "colab": {
          "base_uri": "https://localhost:8080/"
        },
        "id": "08YP2a8hwYd5",
        "outputId": "89351a95-a57d-4558-d6b8-4f12c833aebc"
      },
      "outputs": [
        {
          "output_type": "stream",
          "name": "stdout",
          "text": [
            "Alas: 8, Tinggi: 5, Luas: 20.0\n"
          ]
        }
      ],
      "source": [
        "class Segitiga:\n",
        "    def __init__(self, alas, tinggi):\n",
        "        if alas <= 0 or tinggi <= 0:\n",
        "            raise ValueError(\"Alas dan tinggi harus lebih dari 0\")\n",
        "        self.__alas = alas\n",
        "        self.__tinggi = tinggi\n",
        "\n",
        "    def get_alas(self):\n",
        "        return self.__alas\n",
        "\n",
        "    def get_tinggi(self):\n",
        "        return self.__tinggi\n",
        "\n",
        "    def hitung_luas(self):\n",
        "        return 0.5 * self.__alas * self.__tinggi\n",
        "\n",
        "# Membuat objek\n",
        "segitiga = Segitiga(8, 5)\n",
        "print(f\"Alas: {segitiga.get_alas()}, Tinggi: {segitiga.get_tinggi()}, Luas: {segitiga.hitung_luas()}\")\n"
      ]
    }
  ]
}