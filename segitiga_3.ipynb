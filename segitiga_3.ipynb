{
  "nbformat": 4,
  "nbformat_minor": 0,
  "metadata": {
    "colab": {
      "provenance": [],
      "authorship_tag": "ABX9TyMPyhy1Q73/uo8gIyY9WvRl",
      "include_colab_link": true
    },
    "kernelspec": {
      "name": "python3",
      "display_name": "Python 3"
    },
    "language_info": {
      "name": "python"
    }
  },
  "cells": [
    {
      "cell_type": "markdown",
      "metadata": {
        "id": "view-in-github",
        "colab_type": "text"
      },
      "source": [
        "<a href=\"https://colab.research.google.com/github/Khairuliqbaldev/PBO-2/blob/main/segitiga_3.ipynb\" target=\"_parent\"><img src=\"https://colab.research.google.com/assets/colab-badge.svg\" alt=\"Open In Colab\"/></a>"
      ]
    },
    {
      "cell_type": "code",
      "execution_count": 2,
      "metadata": {
        "colab": {
          "base_uri": "https://localhost:8080/"
        },
        "id": "NiEbVbgsrmb5",
        "outputId": "71d341cd-9997-45ab-edf8-2a10d6b44277"
      },
      "outputs": [
        {
          "output_type": "stream",
          "name": "stdout",
          "text": [
            "Sisi: 6, Luas: 36\n"
          ]
        }
      ],
      "source": [
        "# File 4: persegi.py\n",
        "class Persegi:\n",
        "    def __init__(self, sisi):\n",
        "        if sisi <= 0:\n",
        "            raise ValueError(\"Sisi harus lebih dari 0\")\n",
        "        self.__sisi = sisi\n",
        "\n",
        "    def get_sisi(self):\n",
        "        return self.__sisi\n",
        "\n",
        "    def hitung_luas(self):\n",
        "        return self.__sisi * self.__sisi\n",
        "\n",
        "# Membuat objek\n",
        "psg = Persegi(6)\n",
        "print(f\"Sisi: {psg.get_sisi()}, Luas: {psg.hitung_luas()}\")\n"
      ]
    }
  ]
}