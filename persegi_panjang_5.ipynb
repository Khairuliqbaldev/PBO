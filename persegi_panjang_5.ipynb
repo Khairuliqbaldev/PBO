{
  "nbformat": 4,
  "nbformat_minor": 0,
  "metadata": {
    "colab": {
      "provenance": [],
      "authorship_tag": "ABX9TyMTW4PjwXqmv74wbjwZHWQI",
      "include_colab_link": true
    },
    "kernelspec": {
      "name": "python3",
      "display_name": "Python 3"
    },
    "language_info": {
      "name": "python"
    }
  },
  "cells": [
    {
      "cell_type": "markdown",
      "metadata": {
        "id": "view-in-github",
        "colab_type": "text"
      },
      "source": [
        "<a href=\"https://colab.research.google.com/github/Khairuliqbaldev/PBO-2/blob/main/persegi_panjang_5.ipynb\" target=\"_parent\"><img src=\"https://colab.research.google.com/assets/colab-badge.svg\" alt=\"Open In Colab\"/></a>"
      ]
    },
    {
      "cell_type": "code",
      "execution_count": 4,
      "metadata": {
        "colab": {
          "base_uri": "https://localhost:8080/"
        },
        "id": "NiEbVbgsrmb5",
        "outputId": "040065f0-9809-4f15-ac58-eda00808162e"
      },
      "outputs": [
        {
          "output_type": "stream",
          "name": "stdout",
          "text": [
            "Panjang: 10, Lebar: 4, Keliling: 28\n"
          ]
        }
      ],
      "source": [
        "# File 5: persegi_panjang.py\n",
        "class PersegiPanjang:\n",
        "    def __init__(self, panjang, lebar):\n",
        "        if panjang <= 0 or lebar <= 0:\n",
        "            raise ValueError(\"Panjang dan lebar harus lebih dari 0\")\n",
        "        self.__panjang = panjang\n",
        "        self.__lebar = lebar\n",
        "\n",
        "    def get_panjang(self):\n",
        "        return self.__panjang\n",
        "\n",
        "    def get_lebar(self):\n",
        "        return self.__lebar\n",
        "\n",
        "    def hitung_keliling(self):\n",
        "        return 2 * (self.__panjang + self.__lebar)\n",
        "\n",
        "# Membuat objek\n",
        "pp = PersegiPanjang(10, 4)\n",
        "print(f\"Panjang: {pp.get_panjang()}, Lebar: {pp.get_lebar()}, Keliling: {pp.hitung_keliling()}\")\n"
      ]
    }
  ]
}