{
  "nbformat": 4,
  "nbformat_minor": 0,
  "metadata": {
    "colab": {
      "provenance": [],
      "authorship_tag": "ABX9TyP6fqJVhmCfJsUPFykfxSFv",
      "include_colab_link": true
    },
    "kernelspec": {
      "name": "python3",
      "display_name": "Python 3"
    },
    "language_info": {
      "name": "python"
    }
  },
  "cells": [
    {
      "cell_type": "markdown",
      "metadata": {
        "id": "view-in-github",
        "colab_type": "text"
      },
      "source": [
        "<a href=\"https://colab.research.google.com/github/Khairuliqbaldev/PBO/blob/main/lingkaran_2.ipynb\" target=\"_parent\"><img src=\"https://colab.research.google.com/assets/colab-badge.svg\" alt=\"Open In Colab\"/></a>"
      ]
    },
    {
      "cell_type": "code",
      "execution_count": 4,
      "metadata": {
        "colab": {
          "base_uri": "https://localhost:8080/"
        },
        "id": "08YP2a8hwYd5",
        "outputId": "f13c7262-3519-4b3e-94de-2a37355653c8"
      },
      "outputs": [
        {
          "output_type": "stream",
          "name": "stdout",
          "text": [
            "Radius: 7, Keliling: 43.96\n"
          ]
        }
      ],
      "source": [
        "class Lingkaran:\n",
        "    def __init__(self, radius):\n",
        "        if radius <= 0:\n",
        "            raise ValueError(\"Radius harus lebih dari 0\")\n",
        "        self.__radius = radius\n",
        "\n",
        "    def get_radius(self):\n",
        "        return self.__radius\n",
        "\n",
        "    def hitung_keliling(self):\n",
        "        return 2 * 3.14 * self.__radius\n",
        "\n",
        "# Membuat objek\n",
        "lingkaran = Lingkaran(7)\n",
        "print(f\"Radius: {lingkaran.get_radius()}, Keliling: {lingkaran.hitung_keliling()}\")\n"
      ]
    }
  ]
}